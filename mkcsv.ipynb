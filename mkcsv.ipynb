{
 "cells": [
  {
   "cell_type": "code",
   "execution_count": 11,
   "metadata": {},
   "outputs": [],
   "source": [
    "import pandas as pd\n",
    "from glob import glob"
   ]
  },
  {
   "cell_type": "code",
   "execution_count": 16,
   "metadata": {},
   "outputs": [],
   "source": [
    "df = pd.DataFrame()\n",
    "for g_json in glob(\"frases_jsons/*.json\"):\n",
    "    frases = list(pd.read_json(g_json)['phrases'].values)\n",
    "    intermediario = pd.DataFrame(pd.DataFrame(frases))\n",
    "    df = df.append(intermediario)"
   ]
  },
  {
   "cell_type": "code",
   "execution_count": 18,
   "metadata": {},
   "outputs": [
    {
     "data": {
      "text/plain": [
       "array(['Madonna', 'Denis Diderot', 'Luigi Pirandello', 'Paulo Coelho',\n",
       "       'Tom Jobim', 'Clarice Lispector', 'Sigmund Freud', 'José Saramago',\n",
       "       'Martha Medeiros', 'Caio Fernando Abreu',\n",
       "       'Madre Teresa de Calcutá', 'Jocelyne Villeneuve', 'De Bono',\n",
       "       'Augusto Branco', 'Tumblr', 'Mario Quintana', 'Frases Diversas',\n",
       "       'Frases Vingativas', 'Carlos Drummond de Andrade',\n",
       "       'Machado de Assis', 'Fernando Teixeira de Andrade',\n",
       "       'Antoine de Saint-Exupéry', 'Vinicius de Moraes',\n",
       "       'Jean Hérault de Gourville', 'Santo Isidoro de Sevilha',\n",
       "       'Marquês de Maricá', 'Luís de Camões', 'São Francisco de Assis',\n",
       "       'Honoré de Balzac', 'Miguel de Cervantes',\n",
       "       'Geraldo Eustáquio de Souza', 'Ninon de Lenclos',\n",
       "       'Álvaro de Campos', 'Simone de Beauvoir', 'Jean de la Bruyere',\n",
       "       'Madame de Staël', 'Eça de Queirós', 'Jean de La Fontaine',\n",
       "       'Mário de Andrade', 'Alfred de Musset', 'José de Alencar',\n",
       "       'Alfred de Vigny', 'Barão de Montesquieu', 'Santa Teresa de Ávila',\n",
       "       'Paulo de Tarso', 'Henrique Jose de Souza', 'Francisco de Quevedo',\n",
       "       'Erasmo de Roterdã', 'Michel de Montaigne', 'Charles de Gaulle',\n",
       "       'Marquês de Sade', 'Barão de Itararé',\n",
       "       'Luc de Clapiers Vauvenargues', 'Tales de Mileto', 'Mc Daleste',\n",
       "       'MC Bola', 'Manoel de Barros', 'Tânia Diniz', 'Leila Diniz',\n",
       "       'Tania Morais', 'Millôr Fernandes', 'Elon Musk', 'Marisa Monte',\n",
       "       'Rani G.', 'Milinha Manguita', 'Camila Bill', 'Helom',\n",
       "       'Francismar Prestes Leal', 'ARRUDA, J.B. de.', 'Raysa Lima',\n",
       "       'marisa monte, silva', 'Hannah Arendt', '13 Reasons Why',\n",
       "       'Hannah Arendt (1906-1975)', 'Hannah Mayria', 'Hannah Lessa',\n",
       "       'Paulo Franchetti', 'José Eustáquio', 'José Martí',\n",
       "       'José Hernandez', 'José Ortega y Gasset', 'José Rainha Jr.',\n",
       "       'José Martí y Perez', 'José Alencar', 'Padre José de Anchieta',\n",
       "       'José Ingenieros', 'José Félix', 'José Alberto', 'José Gorostiza',\n",
       "       'Sérgio M. Serra'], dtype=object)"
      ]
     },
     "execution_count": 18,
     "metadata": {},
     "output_type": "execute_result"
    }
   ],
   "source": [
    "df['author'] = df['author'].replace(\"(Clarice Lispector)\", \"Clarice Lispector\")\n",
    "df['author'] = df['author'].replace(\"clarice lispector\", \"Clarice Lispector\")\n",
    "df['author'].unique()"
   ]
  },
  {
   "cell_type": "code",
   "execution_count": 2,
   "metadata": {},
   "outputs": [],
   "source": [
    "frases = list(pd.read_json(\"frases_jsons/Clarice Lispector.json\")['phrases'].values)"
   ]
  },
  {
   "cell_type": "code",
   "execution_count": 4,
   "metadata": {},
   "outputs": [],
   "source": [
    "clarice = pd.DataFrame(frases)"
   ]
  },
  {
   "cell_type": "code",
   "execution_count": 5,
   "metadata": {},
   "outputs": [],
   "source": [
    "clarice.to_csv(\"clarice.csv\")"
   ]
  },
  {
   "cell_type": "code",
   "execution_count": 9,
   "metadata": {},
   "outputs": [
    {
     "data": {
      "text/plain": [
       "'Renda-se, como eu me rendi. Mergulhe no que você não conhece como eu mergulhei. Não se preocupe em entender, viver ultrapassa qualquer entendimento.'"
      ]
     },
     "execution_count": 9,
     "metadata": {},
     "output_type": "execute_result"
    }
   ],
   "source": [
    "clarice['text'][1]"
   ]
  }
 ],
 "metadata": {
  "kernelspec": {
   "display_name": "Python 3",
   "language": "python",
   "name": "python3"
  },
  "language_info": {
   "codemirror_mode": {
    "name": "ipython",
    "version": 3
   },
   "file_extension": ".py",
   "mimetype": "text/x-python",
   "name": "python",
   "nbconvert_exporter": "python",
   "pygments_lexer": "ipython3",
   "version": "3.6.5"
  }
 },
 "nbformat": 4,
 "nbformat_minor": 4
}
